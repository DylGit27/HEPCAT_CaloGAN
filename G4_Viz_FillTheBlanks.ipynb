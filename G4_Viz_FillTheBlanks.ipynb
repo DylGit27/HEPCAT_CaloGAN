{
 "cells": [
  {
   "cell_type": "markdown",
   "id": "bff67d3d",
   "metadata": {},
   "source": [
    "### Visualization and Analysis of Geant4 Samples "
   ]
  },
  {
   "cell_type": "markdown",
   "id": "a70174df",
   "metadata": {},
   "source": [
    "This Jupyter notebook will help visualize the Geant4 images created using the CaloGAN dataset, as well as perform simple analysis of physics observables that act as useful benchmarks to evaluate the performance of CaloGAN in simulating Geant4.\n",
    "\n",
    "The data imported here is an H5 file generated from Geant4 using this repository: https://github.com/DylGit27/HEPCAT_CaloGAN/tree/main\n",
    "\n",
    "Running Geant4 using the above repo outputs a ROOT file; to convert to images stored in H5, use `convert_uproot.py`. \n",
    "\n",
    "The above repo is developed by Dylan Smith and Benjamin Nachman and is based upon the original CaloGAN dataset developed by M. Paganini, L. de Oliveira, and B. Nachman\n",
    "(original repo: https://github.com/hep-lbdl/CaloGAN/tree/1adb7ab745f038af8b0e56d1396f839dc6435584). "
   ]
  },
  {
   "cell_type": "code",
   "execution_count": 2,
   "id": "2336873d",
   "metadata": {},
   "outputs": [],
   "source": [
    "### Imports ###\n",
    "\n",
    "import numpy as np\n",
    "import matplotlib.pyplot as plt\n",
    "from matplotlib.colors import LogNorm\n",
    "import h5py"
   ]
  },
  {
   "cell_type": "code",
   "execution_count": 3,
   "id": "f9242a82",
   "metadata": {},
   "outputs": [],
   "source": [
    "### Functions ###\n",
    "\n",
    "## Define function used for visualizing G4 samples ##\n",
    "def log_plotter(H, xedges, yedges, aspect='auto'):\n",
    "    norm=LogNorm()\n",
    "    fig = plt.figure(figsize=(12, 12))\n",
    "    ax = fig.add_subplot(132, aspect=aspect)\n",
    "    X, Y = np.meshgrid(xedges, yedges)\n",
    "    im = ax.pcolormesh(X, Y, H, norm=norm, shading = 'auto') # Note that log(energy) is plotted\n",
    "    fig.colorbar(im, ax=ax, fraction=0.046, pad=0.04, label=\"log(E)\") \n",
    "    ax.set_xlabel(\"${\\eta}$ index\")\n",
    "    ax.set_ylabel(\"${\\phi}$ index\")\n",
    "    \n",
    "## Plot shower width, i.e. the energy-weighted standard deviations of eta/phi ##\n",
    "def weighted_std(values, weights):\n",
    "    average = np.average(values, weights=weights)\n",
    "    variance = np.average((values-average)**2, weights=weights)\n",
    "    return np.sqrt(variance)\n",
    "\n",
    "## Splits matrix of cell energies into array with columns [eta_index, phi_index, energy] ##\n",
    "def vec_maker(x, y, H):\n",
    "    xv, yv = np.meshgrid(x, y)\n",
    "    xf=np.ndarray.flatten(xv)\n",
    "    yf=np.ndarray.flatten(yv)\n",
    "    ef=np.ndarray.flatten(H)\n",
    "    coords = np.array([xf,yf,ef]).T\n",
    "    return coords"
   ]
  },
  {
   "cell_type": "code",
   "execution_count": 4,
   "id": "94cc6cf2",
   "metadata": {},
   "outputs": [],
   "source": [
    "### Import h5 file from convert_uproot.py script ###\n",
    "\n",
    "filename = \"/Users/dylansmith/Desktop/test.h5\"\n",
    "g4 = h5py.File(filename, \"r\")"
   ]
  },
  {
   "cell_type": "code",
   "execution_count": 5,
   "id": "eaf291bd",
   "metadata": {},
   "outputs": [
    {
     "name": "stdout",
     "output_type": "stream",
     "text": [
      "<KeysViewHDF5 ['energy', 'layer_0', 'layer_1', 'layer_2', 'overflow']>\n"
     ]
    }
   ],
   "source": [
    "### Print keys in h5 file ###\n",
    "\n",
    "print(g4.keys())"
   ]
  },
  {
   "cell_type": "code",
   "execution_count": 7,
   "id": "31498675",
   "metadata": {},
   "outputs": [],
   "source": [
    "### Convert arrays in h5 file to Numpy ###\n",
    "\n",
    "layer_0 = np.array(g4['layer_0'])\n",
    "layer_1 = np.array(g4['layer_1'])\n",
    "layer_2 = np.array(g4['layer_2'])\n",
    "energy = np.array(g4['energy'])\n",
    "overflow = np.array(g4['overflow'])\n",
    "\n",
    "### Questions 1: Print layer shapes ###"
   ]
  },
  {
   "cell_type": "code",
   "execution_count": 8,
   "id": "055a0870",
   "metadata": {},
   "outputs": [],
   "source": [
    "### Print Layer 0 sample ###\n",
    "\n",
    "sample_0 = layer_0[0]\n",
    "\n",
    "eta_0 = np.arange(0, sample_0.shape[1])\n",
    "phi_0 = np.arange(0, sample_0.shape[0])\n",
    "\n",
    "### Question 2: Plot the sample defined above\n",
    "### Hint: Use the log_plotter function"
   ]
  },
  {
   "cell_type": "code",
   "execution_count": 9,
   "id": "65821219",
   "metadata": {},
   "outputs": [],
   "source": [
    "### Print Layer 1 sample ###\n",
    "\n",
    "sample_1 = layer_1[0]\n",
    "\n",
    "eta_1 = np.arange(0, sample_1.shape[1])\n",
    "phi_1 = np.arange(0, sample_1.shape[0])\n",
    "\n",
    "### Question 3: Plot the sample defined above\n",
    "### Hint: Use the log_plotter function"
   ]
  },
  {
   "cell_type": "code",
   "execution_count": 10,
   "id": "f50fb743",
   "metadata": {},
   "outputs": [],
   "source": [
    "### Print Layer 2 sample ###\n",
    "\n",
    "sample_2 = layer_2[1]\n",
    "\n",
    "eta_2 = np.arange(0, sample_2.shape[1])\n",
    "phi_2 = np.arange(0, sample_2.shape[0])\n",
    "\n",
    "### Question 4: Plot the sample defined above\n",
    "### Hint: Use the log_plotter function"
   ]
  },
  {
   "cell_type": "markdown",
   "id": "0f9ca1b4",
   "metadata": {},
   "source": [
    "Next, plot some physics observables. In evaluating how well an ML simulator performs, it is imperative that they reproduce the physics of the Geant4 samples. This is a way to quantify concretely how well the simulator performs, where as \"looking\" at how similar images are is qualitative (however it is important ML-simulated images look believable in being Geant4 images)."
   ]
  },
  {
   "cell_type": "code",
   "execution_count": 11,
   "id": "7b8a8c49",
   "metadata": {},
   "outputs": [],
   "source": [
    "## Start with simply plotting a histogram of all incident energies ##\n",
    "\n",
    "### Question 5: Plot a histogram of the incident energies"
   ]
  },
  {
   "cell_type": "code",
   "execution_count": 12,
   "id": "79537fe6",
   "metadata": {},
   "outputs": [],
   "source": [
    "### Plot energy per layer ###\n",
    "\n",
    "### Question 6: Plot total energy per layer\n",
    "### Hint: calculate the sum of all individual cell energies using np.sum"
   ]
  },
  {
   "cell_type": "code",
   "execution_count": 198,
   "id": "ee2e5d02",
   "metadata": {},
   "outputs": [
    {
     "data": {
      "image/png": "[encoded data removed]",
      "text/plain": [
       "<Figure size 640x480 with 1 Axes>"
      ]
     },
     "metadata": {},
     "output_type": "display_data"
    },
    {
     "data": {
      "image/png": "[encoded data removed]",
      "text/plain": [
       "<Figure size 640x480 with 1 Axes>"
      ]
     },
     "metadata": {},
     "output_type": "display_data"
    }
   ],
   "source": [
    "### Plot shower widths, i.e. standard deviation weighted by energy in eta/phi\n",
    "\n",
    "etaWidth0 = []\n",
    "phiWidth0 = []\n",
    "\n",
    "etaWidth1 = []\n",
    "phiWidth1 = []\n",
    "\n",
    "etaWidth2 = []\n",
    "phiWidth2 = []\n",
    "\n",
    "for i in range(len(layer_0)):\n",
    "    \n",
    "    ## Convert images into columns of form [eta, phi, energy]\n",
    "    arr0 = vec_maker(eta_0, phi_0, layer_0[i])\n",
    "    arr1 = vec_maker(eta_1, phi_1, layer_1[i])\n",
    "    arr2 = vec_maker(eta_2, phi_2, layer_2[i])\n",
    "    \n",
    "    ### Question 7: append the weighted standard deviations to each empty list defined above\n",
    "    ### Hint: use weighted_std function \n",
    "    \n",
    "    #etaWidth0.append(FILL IN HERE)\n",
    "    #phiWidth0.append(FILL IN HERE)\n",
    "    #etaWidth1.append(FILL IN HERE)\n",
    "    #phiWidth1.append(FILL IN HERE)\n",
    "    \n",
    "    #etaWidth2.append(FILL IN HERE)\n",
    "    #phiWidth2.append(FILL IN HERE)\n",
    "    \n",
    "\n",
    "### Plot shower width in eta ###\n",
    "plt.hist(etaWidth0, bins = 40, histtype='step', label='L0')\n",
    "plt.hist(etaWidth1, bins = 40, histtype='step', label='L1')\n",
    "plt.hist(etaWidth2, bins = 40, histtype='step', label='L2')\n",
    "plt.legend()\n",
    "plt.title(\"${\\eta}$ Shower Width\")\n",
    "plt.xlabel(\"${\\eta}$ Index\")\n",
    "plt.show()\n",
    "\n",
    "### Plot shower width in phi ###\n",
    "plt.hist(phiWidth0, bins = 40, histtype='step', label='L0')\n",
    "plt.hist(phiWidth1, bins = 40, histtype='step', label='L1')\n",
    "plt.hist(phiWidth2, bins = 40, histtype='step', label='L2')\n",
    "plt.legend()\n",
    "plt.title(\"${\\phi}$ Shower Width\")\n",
    "plt.xlabel(\"${\\phi}$ Index\")\n",
    "plt.show()"
   ]
  },
  {
   "cell_type": "code",
   "execution_count": null,
   "id": "f2c21e25",
   "metadata": {},
   "outputs": [],
   "source": []
  }
 ],
 "metadata": {
  "kernelspec": {
   "display_name": "Python 3 (ipykernel)",
   "language": "python",
   "name": "python3"
  },
  "language_info": {
   "codemirror_mode": {
    "name": "ipython",
    "version": 3
   },
   "file_extension": ".py",
   "mimetype": "text/x-python",
   "name": "python",
   "nbconvert_exporter": "python",
   "pygments_lexer": "ipython3",
   "version": "3.8.17"
  }
 },
 "nbformat": 4,
 "nbformat_minor": 5
}
